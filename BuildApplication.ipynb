{
 "cells": [
  {
   "cell_type": "markdown",
   "source": [
    "## Build application to the executable file"
   ],
   "metadata": {
    "collapsed": false
   },
   "id": "8ede807587f0778a"
  },
  {
   "cell_type": "code",
   "outputs": [
    {
     "data": {
      "text/plain": "'dist\\\\settings.cfg'"
     },
     "execution_count": 12,
     "metadata": {},
     "output_type": "execute_result"
    }
   ],
   "source": [
    "import shutil\n",
    "\n",
    "shutil.copy2('src/icon.png', 'dist')\n",
    "shutil.copy2('src/schedule.json', 'dist')\n",
    "shutil.copy2('src/settings.cfg', 'dist')"
   ],
   "metadata": {
    "collapsed": false,
    "ExecuteTime": {
     "end_time": "2025-03-08T09:30:56.759878Z",
     "start_time": "2025-03-08T09:30:56.741531Z"
    }
   },
   "id": "6a98841cb7609f61",
   "execution_count": 12
  },
  {
   "cell_type": "code",
   "source": [
    "!pyinstaller -F --windowed src/main.py --hidden-import=playwright --hidden-import=playwright.sync_api --hidden-import=playwright._impl._driver --hidden-import=pystray --add-data \"dist/schedule.json;.\" --add-data \"dist/icon.png;.\" --add-data \"dist/settings.cfg;.\""
   ],
   "metadata": {
    "collapsed": false,
    "ExecuteTime": {
     "end_time": "2025-03-08T09:31:49.523535Z",
     "start_time": "2025-03-08T09:30:56.760878Z"
    }
   },
   "id": "97f30286e3510e70",
   "outputs": [
    {
     "name": "stderr",
     "output_type": "stream",
     "text": [
      "459 INFO: PyInstaller: 6.10.0, contrib hooks: 2024.8\n",
      "459 INFO: Python: 3.10.0\n",
      "475 INFO: Platform: Windows-10-10.0.26100-SP0\n",
      "475 INFO: Python environment: C:\\Users\\tuman\\AppData\\Local\\Programs\\Python\\Python310\n",
      "475 INFO: wrote C:\\Users\\tuman\\OneDrive\\Документы\\GitHub\\IdleScholar\\main.spec\n",
      "478 INFO: Module search paths (PYTHONPATH):\n",
      "['C:\\\\Users\\\\tuman\\\\AppData\\\\Local\\\\Programs\\\\Python\\\\Python310\\\\Scripts\\\\pyinstaller.exe',\n",
      " 'C:\\\\Users\\\\tuman\\\\OneDrive\\\\Документы\\\\GitHub\\\\IdleScholar',\n",
      " 'C:\\\\Users\\\\tuman\\\\OneDrive\\\\Документы',\n",
      " 'C:\\\\Users\\\\tuman\\\\AppData\\\\Local\\\\Programs\\\\Python\\\\Python310\\\\python310.zip',\n",
      " 'C:\\\\Users\\\\tuman\\\\AppData\\\\Local\\\\Programs\\\\Python\\\\Python310\\\\DLLs',\n",
      " 'C:\\\\Users\\\\tuman\\\\AppData\\\\Local\\\\Programs\\\\Python\\\\Python310\\\\lib',\n",
      " 'C:\\\\Users\\\\tuman\\\\AppData\\\\Local\\\\Programs\\\\Python\\\\Python310',\n",
      " 'C:\\\\Users\\\\tuman\\\\AppData\\\\Local\\\\Programs\\\\Python\\\\Python310\\\\lib\\\\site-packages',\n",
      " 'C:\\\\Users\\\\tuman\\\\AppData\\\\Local\\\\Programs\\\\Python\\\\Python310\\\\lib\\\\site-packages\\\\win32',\n",
      " 'C:\\\\Users\\\\tuman\\\\AppData\\\\Local\\\\Programs\\\\Python\\\\Python310\\\\lib\\\\site-packages\\\\win32\\\\lib',\n",
      " 'C:\\\\Users\\\\tuman\\\\AppData\\\\Local\\\\Programs\\\\Python\\\\Python310\\\\lib\\\\site-packages\\\\Pythonwin',\n",
      " 'C:\\\\Users\\\\tuman\\\\OneDrive\\\\Документы\\\\GitHub\\\\IdleScholar\\\\src']\n",
      "796 INFO: Appending 'datas' from .spec\n",
      "797 INFO: checking Analysis\n",
      "815 INFO: Building because C:\\Users\\tuman\\OneDrive\\Документы\\GitHub\\IdleScholar\\dist\\schedule.json changed\n",
      "815 INFO: Running Analysis Analysis-00.toc\n",
      "815 INFO: Target bytecode optimization level: 0\n",
      "815 INFO: Initializing module dependency graph...\n",
      "816 INFO: Caching module graph hooks...\n",
      "828 INFO: Analyzing base_library.zip ...\n",
      "2010 INFO: Processing standard module hook 'hook-heapq.py' from 'C:\\\\Users\\\\tuman\\\\AppData\\\\Local\\\\Programs\\\\Python\\\\Python310\\\\lib\\\\site-packages\\\\PyInstaller\\\\hooks'\n",
      "2065 INFO: Processing standard module hook 'hook-encodings.py' from 'C:\\\\Users\\\\tuman\\\\AppData\\\\Local\\\\Programs\\\\Python\\\\Python310\\\\lib\\\\site-packages\\\\PyInstaller\\\\hooks'\n",
      "3210 INFO: Processing standard module hook 'hook-pickle.py' from 'C:\\\\Users\\\\tuman\\\\AppData\\\\Local\\\\Programs\\\\Python\\\\Python310\\\\lib\\\\site-packages\\\\PyInstaller\\\\hooks'\n",
      "3946 INFO: Caching module dependency graph...\n",
      "4049 INFO: Looking for Python shared library...\n",
      "4094 INFO: Using Python shared library: C:\\Users\\tuman\\AppData\\Local\\Programs\\Python\\Python310\\python310.dll\n",
      "4094 INFO: Analyzing C:\\Users\\tuman\\OneDrive\\Документы\\GitHub\\IdleScholar\\src\\main.py\n",
      "4174 INFO: Processing standard module hook 'hook-_tkinter.py' from 'C:\\\\Users\\\\tuman\\\\AppData\\\\Local\\\\Programs\\\\Python\\\\Python310\\\\lib\\\\site-packages\\\\PyInstaller\\\\hooks'\n",
      "4179 INFO: Processing standard module hook 'hook-pystray.py' from 'C:\\\\Users\\\\tuman\\\\AppData\\\\Local\\\\Programs\\\\Python\\\\Python310\\\\lib\\\\site-packages\\\\_pyinstaller_hooks_contrib\\\\stdhooks'\n",
      "4759 INFO: Processing pre-safe-import-module hook 'hook-six.moves.py' from 'C:\\\\Users\\\\tuman\\\\AppData\\\\Local\\\\Programs\\\\Python\\\\Python310\\\\lib\\\\site-packages\\\\PyInstaller\\\\hooks\\\\pre_safe_import_module'\n",
      "4826 INFO: Processing pre-safe-import-module hook 'hook-gi.py' from 'C:\\\\Users\\\\tuman\\\\AppData\\\\Local\\\\Programs\\\\Python\\\\Python310\\\\lib\\\\site-packages\\\\PyInstaller\\\\hooks\\\\pre_safe_import_module'\n",
      "4847 INFO: Processing standard module hook 'hook-PIL.py' from 'C:\\\\Users\\\\tuman\\\\AppData\\\\Local\\\\Programs\\\\Python\\\\Python310\\\\lib\\\\site-packages\\\\PyInstaller\\\\hooks'\n",
      "4902 INFO: Processing standard module hook 'hook-pytz.py' from 'C:\\\\Users\\\\tuman\\\\AppData\\\\Local\\\\Programs\\\\Python\\\\Python310\\\\lib\\\\site-packages\\\\PyInstaller\\\\hooks'\n",
      "5118 INFO: Processing standard module hook 'hook-pkg_resources.py' from 'C:\\\\Users\\\\tuman\\\\AppData\\\\Local\\\\Programs\\\\Python\\\\Python310\\\\lib\\\\site-packages\\\\PyInstaller\\\\hooks'\n",
      "5119 INFO: SetuptoolsInfo: initializing cached setuptools info...\n",
      "7336 INFO: Processing standard module hook 'hook-platform.py' from 'C:\\\\Users\\\\tuman\\\\AppData\\\\Local\\\\Programs\\\\Python\\\\Python310\\\\lib\\\\site-packages\\\\PyInstaller\\\\hooks'\n",
      "7354 INFO: Processing standard module hook 'hook-xml.py' from 'C:\\\\Users\\\\tuman\\\\AppData\\\\Local\\\\Programs\\\\Python\\\\Python310\\\\lib\\\\site-packages\\\\PyInstaller\\\\hooks'\n",
      "7372 INFO: Processing standard module hook 'hook-sysconfig.py' from 'C:\\\\Users\\\\tuman\\\\AppData\\\\Local\\\\Programs\\\\Python\\\\Python310\\\\lib\\\\site-packages\\\\PyInstaller\\\\hooks'\n",
      "7435 INFO: Processing standard module hook 'hook-difflib.py' from 'C:\\\\Users\\\\tuman\\\\AppData\\\\Local\\\\Programs\\\\Python\\\\Python310\\\\lib\\\\site-packages\\\\PyInstaller\\\\hooks'\n",
      "8110 INFO: Processing standard module hook 'hook-multiprocessing.util.py' from 'C:\\\\Users\\\\tuman\\\\AppData\\\\Local\\\\Programs\\\\Python\\\\Python310\\\\lib\\\\site-packages\\\\PyInstaller\\\\hooks'\n",
      "8488 INFO: Processing standard module hook 'hook-PIL.Image.py' from 'C:\\\\Users\\\\tuman\\\\AppData\\\\Local\\\\Programs\\\\Python\\\\Python310\\\\lib\\\\site-packages\\\\PyInstaller\\\\hooks'\n",
      "9060 INFO: Processing pre-safe-import-module hook 'hook-typing_extensions.py' from 'C:\\\\Users\\\\tuman\\\\AppData\\\\Local\\\\Programs\\\\Python\\\\Python310\\\\lib\\\\site-packages\\\\PyInstaller\\\\hooks\\\\pre_safe_import_module'\n",
      "9105 INFO: Processing standard module hook 'hook-xml.etree.cElementTree.py' from 'C:\\\\Users\\\\tuman\\\\AppData\\\\Local\\\\Programs\\\\Python\\\\Python310\\\\lib\\\\site-packages\\\\PyInstaller\\\\hooks'\n",
      "9148 INFO: Processing standard module hook 'hook-xml.dom.domreg.py' from 'C:\\\\Users\\\\tuman\\\\AppData\\\\Local\\\\Programs\\\\Python\\\\Python310\\\\lib\\\\site-packages\\\\PyInstaller\\\\hooks'\n",
      "9411 INFO: Processing standard module hook 'hook-pycparser.py' from 'C:\\\\Users\\\\tuman\\\\AppData\\\\Local\\\\Programs\\\\Python\\\\Python310\\\\lib\\\\site-packages\\\\_pyinstaller_hooks_contrib\\\\stdhooks'\n",
      "9660 INFO: Processing standard module hook 'hook-setuptools.py' from 'C:\\\\Users\\\\tuman\\\\AppData\\\\Local\\\\Programs\\\\Python\\\\Python310\\\\lib\\\\site-packages\\\\PyInstaller\\\\hooks'\n",
      "9664 INFO: Processing pre-safe-import-module hook 'hook-distutils.py' from 'C:\\\\Users\\\\tuman\\\\AppData\\\\Local\\\\Programs\\\\Python\\\\Python310\\\\lib\\\\site-packages\\\\PyInstaller\\\\hooks\\\\pre_safe_import_module'\n",
      "9664 INFO: Processing pre-find-module-path hook 'hook-distutils.py' from 'C:\\\\Users\\\\tuman\\\\AppData\\\\Local\\\\Programs\\\\Python\\\\Python310\\\\lib\\\\site-packages\\\\PyInstaller\\\\hooks\\\\pre_find_module_path'\n",
      "9666 INFO: Processing standard module hook 'hook-distutils.py' from 'C:\\\\Users\\\\tuman\\\\AppData\\\\Local\\\\Programs\\\\Python\\\\Python310\\\\lib\\\\site-packages\\\\PyInstaller\\\\hooks'\n",
      "9697 INFO: Processing standard module hook 'hook-distutils.util.py' from 'C:\\\\Users\\\\tuman\\\\AppData\\\\Local\\\\Programs\\\\Python\\\\Python310\\\\lib\\\\site-packages\\\\PyInstaller\\\\hooks'\n",
      "10156 INFO: Processing standard module hook 'hook-numpy.py' from 'C:\\\\Users\\\\tuman\\\\AppData\\\\Local\\\\Programs\\\\Python\\\\Python310\\\\Lib\\\\site-packages\\\\numpy\\\\_pyinstaller'\n",
      "10495 INFO: Processing standard module hook 'hook-psutil.py' from 'C:\\\\Users\\\\tuman\\\\AppData\\\\Local\\\\Programs\\\\Python\\\\Python310\\\\lib\\\\site-packages\\\\_pyinstaller_hooks_contrib\\\\stdhooks'\n",
      "11220 INFO: Processing pre-safe-import-module hook 'hook-packaging.py' from 'C:\\\\Users\\\\tuman\\\\AppData\\\\Local\\\\Programs\\\\Python\\\\Python310\\\\lib\\\\site-packages\\\\PyInstaller\\\\hooks\\\\pre_safe_import_module'\n",
      "11227 INFO: Processing standard module hook 'hook-packaging.py' from 'C:\\\\Users\\\\tuman\\\\AppData\\\\Local\\\\Programs\\\\Python\\\\Python310\\\\lib\\\\site-packages\\\\PyInstaller\\\\hooks'\n",
      "11257 INFO: Processing standard module hook 'hook-PIL.ImageFilter.py' from 'C:\\\\Users\\\\tuman\\\\AppData\\\\Local\\\\Programs\\\\Python\\\\Python310\\\\lib\\\\site-packages\\\\PyInstaller\\\\hooks'\n",
      "11279 INFO: Processing standard module hook 'hook-playwright.sync_api.py' from 'C:\\\\Users\\\\tuman\\\\AppData\\\\Local\\\\Programs\\\\Python\\\\Python310\\\\lib\\\\site-packages\\\\playwright\\\\_impl\\\\__pyinstaller'\n",
      "11933 INFO: Processing module hooks (post-graph stage)...\n",
      "12062 INFO: Processing standard module hook 'hook-PIL.SpiderImagePlugin.py' from 'C:\\\\Users\\\\tuman\\\\AppData\\\\Local\\\\Programs\\\\Python\\\\Python310\\\\lib\\\\site-packages\\\\PyInstaller\\\\hooks'\n",
      "12092 INFO: Processing pre-safe-import-module hook 'hook-win32com.py' from 'C:\\\\Users\\\\tuman\\\\AppData\\\\Local\\\\Programs\\\\Python\\\\Python310\\\\lib\\\\site-packages\\\\_pyinstaller_hooks_contrib\\\\pre_safe_import_module'\n",
      "12160 INFO: Processing standard module hook 'hook-win32com.py' from 'C:\\\\Users\\\\tuman\\\\AppData\\\\Local\\\\Programs\\\\Python\\\\Python310\\\\lib\\\\site-packages\\\\_pyinstaller_hooks_contrib\\\\stdhooks'\n",
      "12161 INFO: Processing standard module hook 'hook-pythoncom.py' from 'C:\\\\Users\\\\tuman\\\\AppData\\\\Local\\\\Programs\\\\Python\\\\Python310\\\\lib\\\\site-packages\\\\_pyinstaller_hooks_contrib\\\\stdhooks'\n",
      "12235 INFO: Processing standard module hook 'hook-pywintypes.py' from 'C:\\\\Users\\\\tuman\\\\AppData\\\\Local\\\\Programs\\\\Python\\\\Python310\\\\lib\\\\site-packages\\\\_pyinstaller_hooks_contrib\\\\stdhooks'\n",
      "12687 INFO: Processing standard module hook 'hook-_tkinter.py' from 'C:\\\\Users\\\\tuman\\\\AppData\\\\Local\\\\Programs\\\\Python\\\\Python310\\\\lib\\\\site-packages\\\\PyInstaller\\\\hooks'\n",
      "12688 INFO: TclTkInfo: initializing cached Tcl/Tk info...\n",
      "13040 INFO: Performing binary vs. data reclassification (1867 entries)\n",
      "28936 INFO: Looking for ctypes DLLs\n",
      "28956 INFO: Analyzing run-time hooks ...\n",
      "28963 INFO: Including run-time hook 'pyi_rth_inspect.py' from 'C:\\\\Users\\\\tuman\\\\AppData\\\\Local\\\\Programs\\\\Python\\\\Python310\\\\lib\\\\site-packages\\\\PyInstaller\\\\hooks\\\\rthooks'\n",
      "28964 INFO: Including run-time hook 'pyi_rth_pkgutil.py' from 'C:\\\\Users\\\\tuman\\\\AppData\\\\Local\\\\Programs\\\\Python\\\\Python310\\\\lib\\\\site-packages\\\\PyInstaller\\\\hooks\\\\rthooks'\n",
      "28965 INFO: Including run-time hook 'pyi_rth_multiprocessing.py' from 'C:\\\\Users\\\\tuman\\\\AppData\\\\Local\\\\Programs\\\\Python\\\\Python310\\\\lib\\\\site-packages\\\\PyInstaller\\\\hooks\\\\rthooks'\n",
      "28967 INFO: Including run-time hook 'pyi_rth_pkgres.py' from 'C:\\\\Users\\\\tuman\\\\AppData\\\\Local\\\\Programs\\\\Python\\\\Python310\\\\lib\\\\site-packages\\\\PyInstaller\\\\hooks\\\\rthooks'\n",
      "28969 INFO: Including run-time hook 'pyi_rth_pywintypes.py' from 'C:\\\\Users\\\\tuman\\\\AppData\\\\Local\\\\Programs\\\\Python\\\\Python310\\\\lib\\\\site-packages\\\\_pyinstaller_hooks_contrib\\\\rthooks'\n",
      "28969 INFO: Including run-time hook 'pyi_rth_pythoncom.py' from 'C:\\\\Users\\\\tuman\\\\AppData\\\\Local\\\\Programs\\\\Python\\\\Python310\\\\lib\\\\site-packages\\\\_pyinstaller_hooks_contrib\\\\rthooks'\n",
      "28970 INFO: Including run-time hook 'pyi_rth_setuptools.py' from 'C:\\\\Users\\\\tuman\\\\AppData\\\\Local\\\\Programs\\\\Python\\\\Python310\\\\lib\\\\site-packages\\\\PyInstaller\\\\hooks\\\\rthooks'\n",
      "28970 INFO: Including run-time hook 'pyi_rth__tkinter.py' from 'C:\\\\Users\\\\tuman\\\\AppData\\\\Local\\\\Programs\\\\Python\\\\Python310\\\\lib\\\\site-packages\\\\PyInstaller\\\\hooks\\\\rthooks'\n",
      "29023 INFO: Looking for dynamic libraries\n",
      "C:\\Users\\tuman\\AppData\\Local\\Programs\\Python\\Python310\\lib\\site-packages\\PyInstaller\\building\\build_main.py:207: UserWarning: The numpy.array_api submodule is still experimental. See NEP 47.\n",
      "  __import__(package)\n",
      "29814 INFO: Extra DLL search directories (AddDllDirectory): ['C:\\\\Users\\\\tuman\\\\AppData\\\\Local\\\\Programs\\\\Python\\\\Python310\\\\lib\\\\site-packages\\\\numpy.libs']\n",
      "29814 INFO: Extra DLL search directories (PATH): []\n",
      "36466 INFO: Warnings written to C:\\Users\\tuman\\OneDrive\\Документы\\GitHub\\IdleScholar\\build\\main\\warn-main.txt\n",
      "36572 INFO: Graph cross-reference written to C:\\Users\\tuman\\OneDrive\\Документы\\GitHub\\IdleScholar\\build\\main\\xref-main.html\n",
      "36624 INFO: checking PYZ\n",
      "36633 INFO: Building because C:\\Users\\tuman\\OneDrive\\Документы\\GitHub\\IdleScholar\\src\\browser_emulator.py changed\n",
      "36633 INFO: Building PYZ (ZlibArchive) C:\\Users\\tuman\\OneDrive\\Документы\\GitHub\\IdleScholar\\build\\main\\PYZ-00.pyz\n",
      "37656 INFO: Building PYZ (ZlibArchive) C:\\Users\\tuman\\OneDrive\\Документы\\GitHub\\IdleScholar\\build\\main\\PYZ-00.pyz completed successfully.\n",
      "37804 INFO: checking PKG\n",
      "37816 INFO: Building because toc changed\n",
      "37816 INFO: Building PKG (CArchive) main.pkg\n",
      "51702 INFO: Building PKG (CArchive) main.pkg completed successfully.\n",
      "51738 INFO: Bootloader C:\\Users\\tuman\\AppData\\Local\\Programs\\Python\\Python310\\lib\\site-packages\\PyInstaller\\bootloader\\Windows-64bit-intel\\runw.exe\n",
      "51738 INFO: checking EXE\n",
      "51749 INFO: Building because toc changed\n",
      "51749 INFO: Building EXE from EXE-00.toc\n",
      "51754 INFO: Copying bootloader EXE to C:\\Users\\tuman\\OneDrive\\Документы\\GitHub\\IdleScholar\\dist\\main.exe\n",
      "51757 INFO: Copying icon to EXE\n",
      "51759 INFO: Copying 0 resources to EXE\n",
      "51759 INFO: Embedding manifest in EXE\n",
      "51761 INFO: Appending PKG archive to EXE\n",
      "51792 INFO: Fixing EXE headers\n",
      "52241 INFO: Building EXE from EXE-00.toc completed successfully.\n"
     ]
    }
   ],
   "execution_count": 13
  },
  {
   "cell_type": "code",
   "outputs": [],
   "source": [],
   "metadata": {
    "collapsed": false,
    "ExecuteTime": {
     "end_time": "2025-03-08T09:31:49.538375Z",
     "start_time": "2025-03-08T09:31:49.524620Z"
    }
   },
   "id": "9b181520eaf14c3e",
   "execution_count": 13
  }
 ],
 "metadata": {
  "kernelspec": {
   "display_name": "Python 3",
   "language": "python",
   "name": "python3"
  },
  "language_info": {
   "codemirror_mode": {
    "name": "ipython",
    "version": 2
   },
   "file_extension": ".py",
   "mimetype": "text/x-python",
   "name": "python",
   "nbconvert_exporter": "python",
   "pygments_lexer": "ipython2",
   "version": "2.7.6"
  }
 },
 "nbformat": 4,
 "nbformat_minor": 5
}
