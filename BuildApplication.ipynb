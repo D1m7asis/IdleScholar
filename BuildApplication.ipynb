{
 "cells": [
  {
   "cell_type": "markdown",
   "source": [
    "Build application to .exe\n",
    "\n",
    "! **IMPORTANT** !\n",
    "\n",
    "COPY ICON, SCHEDULE AND SETTINGS FILES TO DIST FOLDER\n"
   ],
   "metadata": {
    "collapsed": false
   },
   "id": "6f92c1d155b73399"
  },
  {
   "cell_type": "code",
   "source": [
    "!pyinstaller -F --windowed main.py --hidden-import=playwright --hidden-import=playwright.sync_api --hidden-import=playwright._impl._driver --hidden-import=pystray --add-data \"schedule.json;.\" --add-data \"icon.png;.\" --add-data \"settings.cfg;.\""
   ],
   "metadata": {
    "collapsed": false,
    "ExecuteTime": {
     "end_time": "2024-11-15T12:26:21.088032Z",
     "start_time": "2024-11-15T12:25:14.902088Z"
    }
   },
   "id": "97f30286e3510e70",
   "outputs": [
    {
     "name": "stderr",
     "output_type": "stream",
     "text": [
      "446 INFO: PyInstaller: 6.10.0, contrib hooks: 2024.8\n",
      "446 INFO: Python: 3.10.0\n",
      "454 INFO: Platform: Windows-10-10.0.22621-SP0\n",
      "454 INFO: Python environment: C:\\Users\\tuman\\AppData\\Local\\Programs\\Python\\Python310\n",
      "454 INFO: wrote C:\\Users\\tuman\\OneDrive\\Документы\\GitHub\\IdleScholar\\main.spec\n",
      "457 INFO: Module search paths (PYTHONPATH):\n",
      "['C:\\\\Users\\\\tuman\\\\AppData\\\\Local\\\\Programs\\\\Python\\\\Python310\\\\Scripts\\\\pyinstaller.exe',\n",
      " 'C:\\\\Users\\\\tuman\\\\OneDrive\\\\Документы\\\\GitHub\\\\IdleScholar',\n",
      " 'C:\\\\Users\\\\tuman\\\\OneDrive\\\\Документы',\n",
      " 'C:\\\\Users\\\\tuman\\\\AppData\\\\Local\\\\Programs\\\\Python\\\\Python310\\\\python310.zip',\n",
      " 'C:\\\\Users\\\\tuman\\\\AppData\\\\Local\\\\Programs\\\\Python\\\\Python310\\\\DLLs',\n",
      " 'C:\\\\Users\\\\tuman\\\\AppData\\\\Local\\\\Programs\\\\Python\\\\Python310\\\\lib',\n",
      " 'C:\\\\Users\\\\tuman\\\\AppData\\\\Local\\\\Programs\\\\Python\\\\Python310',\n",
      " 'C:\\\\Users\\\\tuman\\\\AppData\\\\Local\\\\Programs\\\\Python\\\\Python310\\\\lib\\\\site-packages',\n",
      " 'C:\\\\Users\\\\tuman\\\\AppData\\\\Local\\\\Programs\\\\Python\\\\Python310\\\\lib\\\\site-packages\\\\win32',\n",
      " 'C:\\\\Users\\\\tuman\\\\AppData\\\\Local\\\\Programs\\\\Python\\\\Python310\\\\lib\\\\site-packages\\\\win32\\\\lib',\n",
      " 'C:\\\\Users\\\\tuman\\\\AppData\\\\Local\\\\Programs\\\\Python\\\\Python310\\\\lib\\\\site-packages\\\\Pythonwin',\n",
      " 'C:\\\\Users\\\\tuman\\\\OneDrive\\\\Документы\\\\GitHub\\\\IdleScholar']\n",
      "894 INFO: Appending 'datas' from .spec\n",
      "895 INFO: checking Analysis\n",
      "908 INFO: Building because hookspath changed\n",
      "908 INFO: Running Analysis Analysis-00.toc\n",
      "908 INFO: Target bytecode optimization level: 0\n",
      "908 INFO: Initializing module dependency graph...\n",
      "908 INFO: Caching module graph hooks...\n",
      "935 INFO: Analyzing base_library.zip ...\n",
      "2682 INFO: Processing standard module hook 'hook-heapq.py' from 'C:\\\\Users\\\\tuman\\\\AppData\\\\Local\\\\Programs\\\\Python\\\\Python310\\\\lib\\\\site-packages\\\\PyInstaller\\\\hooks'\n",
      "2773 INFO: Processing standard module hook 'hook-encodings.py' from 'C:\\\\Users\\\\tuman\\\\AppData\\\\Local\\\\Programs\\\\Python\\\\Python310\\\\lib\\\\site-packages\\\\PyInstaller\\\\hooks'\n",
      "4452 INFO: Processing standard module hook 'hook-pickle.py' from 'C:\\\\Users\\\\tuman\\\\AppData\\\\Local\\\\Programs\\\\Python\\\\Python310\\\\lib\\\\site-packages\\\\PyInstaller\\\\hooks'\n",
      "6170 INFO: Caching module dependency graph...\n",
      "6275 INFO: Looking for Python shared library...\n",
      "6314 INFO: Using Python shared library: C:\\Users\\tuman\\AppData\\Local\\Programs\\Python\\Python310\\python310.dll\n",
      "6314 INFO: Analyzing C:\\Users\\tuman\\OneDrive\\Документы\\GitHub\\IdleScholar\\main.py\n",
      "6508 INFO: Processing standard module hook 'hook-_tkinter.py' from 'C:\\\\Users\\\\tuman\\\\AppData\\\\Local\\\\Programs\\\\Python\\\\Python310\\\\lib\\\\site-packages\\\\PyInstaller\\\\hooks'\n",
      "6528 INFO: Processing standard module hook 'hook-pystray.py' from 'C:\\\\Users\\\\tuman\\\\AppData\\\\Local\\\\Programs\\\\Python\\\\Python310\\\\lib\\\\site-packages\\\\_pyinstaller_hooks_contrib\\\\stdhooks'\n",
      "7382 INFO: Processing pre-safe-import-module hook 'hook-six.moves.py' from 'C:\\\\Users\\\\tuman\\\\AppData\\\\Local\\\\Programs\\\\Python\\\\Python310\\\\lib\\\\site-packages\\\\PyInstaller\\\\hooks\\\\pre_safe_import_module'\n",
      "7459 INFO: Processing pre-safe-import-module hook 'hook-gi.py' from 'C:\\\\Users\\\\tuman\\\\AppData\\\\Local\\\\Programs\\\\Python\\\\Python310\\\\lib\\\\site-packages\\\\PyInstaller\\\\hooks\\\\pre_safe_import_module'\n",
      "7518 INFO: Processing standard module hook 'hook-PIL.py' from 'C:\\\\Users\\\\tuman\\\\AppData\\\\Local\\\\Programs\\\\Python\\\\Python310\\\\lib\\\\site-packages\\\\PyInstaller\\\\hooks'\n",
      "7618 INFO: Processing standard module hook 'hook-pytz.py' from 'C:\\\\Users\\\\tuman\\\\AppData\\\\Local\\\\Programs\\\\Python\\\\Python310\\\\lib\\\\site-packages\\\\PyInstaller\\\\hooks'\n",
      "7917 INFO: Processing standard module hook 'hook-pkg_resources.py' from 'C:\\\\Users\\\\tuman\\\\AppData\\\\Local\\\\Programs\\\\Python\\\\Python310\\\\lib\\\\site-packages\\\\PyInstaller\\\\hooks'\n",
      "7919 INFO: SetuptoolsInfo: initializing cached setuptools info...\n",
      "10267 INFO: Processing standard module hook 'hook-platform.py' from 'C:\\\\Users\\\\tuman\\\\AppData\\\\Local\\\\Programs\\\\Python\\\\Python310\\\\lib\\\\site-packages\\\\PyInstaller\\\\hooks'\n",
      "10308 INFO: Processing standard module hook 'hook-xml.py' from 'C:\\\\Users\\\\tuman\\\\AppData\\\\Local\\\\Programs\\\\Python\\\\Python310\\\\lib\\\\site-packages\\\\PyInstaller\\\\hooks'\n",
      "10355 INFO: Processing standard module hook 'hook-sysconfig.py' from 'C:\\\\Users\\\\tuman\\\\AppData\\\\Local\\\\Programs\\\\Python\\\\Python310\\\\lib\\\\site-packages\\\\PyInstaller\\\\hooks'\n",
      "10465 INFO: Processing standard module hook 'hook-difflib.py' from 'C:\\\\Users\\\\tuman\\\\AppData\\\\Local\\\\Programs\\\\Python\\\\Python310\\\\lib\\\\site-packages\\\\PyInstaller\\\\hooks'\n",
      "11949 INFO: Processing standard module hook 'hook-multiprocessing.util.py' from 'C:\\\\Users\\\\tuman\\\\AppData\\\\Local\\\\Programs\\\\Python\\\\Python310\\\\lib\\\\site-packages\\\\PyInstaller\\\\hooks'\n",
      "12669 INFO: Processing standard module hook 'hook-PIL.Image.py' from 'C:\\\\Users\\\\tuman\\\\AppData\\\\Local\\\\Programs\\\\Python\\\\Python310\\\\lib\\\\site-packages\\\\PyInstaller\\\\hooks'\n",
      "13207 INFO: Processing pre-safe-import-module hook 'hook-typing_extensions.py' from 'C:\\\\Users\\\\tuman\\\\AppData\\\\Local\\\\Programs\\\\Python\\\\Python310\\\\lib\\\\site-packages\\\\PyInstaller\\\\hooks\\\\pre_safe_import_module'\n",
      "13289 INFO: Processing standard module hook 'hook-xml.etree.cElementTree.py' from 'C:\\\\Users\\\\tuman\\\\AppData\\\\Local\\\\Programs\\\\Python\\\\Python310\\\\lib\\\\site-packages\\\\PyInstaller\\\\hooks'\n",
      "13373 INFO: Processing standard module hook 'hook-xml.dom.domreg.py' from 'C:\\\\Users\\\\tuman\\\\AppData\\\\Local\\\\Programs\\\\Python\\\\Python310\\\\lib\\\\site-packages\\\\PyInstaller\\\\hooks'\n",
      "13893 INFO: Processing standard module hook 'hook-pycparser.py' from 'C:\\\\Users\\\\tuman\\\\AppData\\\\Local\\\\Programs\\\\Python\\\\Python310\\\\lib\\\\site-packages\\\\_pyinstaller_hooks_contrib\\\\stdhooks'\n",
      "14247 INFO: Processing standard module hook 'hook-setuptools.py' from 'C:\\\\Users\\\\tuman\\\\AppData\\\\Local\\\\Programs\\\\Python\\\\Python310\\\\lib\\\\site-packages\\\\PyInstaller\\\\hooks'\n",
      "14259 INFO: Processing pre-safe-import-module hook 'hook-distutils.py' from 'C:\\\\Users\\\\tuman\\\\AppData\\\\Local\\\\Programs\\\\Python\\\\Python310\\\\lib\\\\site-packages\\\\PyInstaller\\\\hooks\\\\pre_safe_import_module'\n",
      "14259 INFO: Processing pre-find-module-path hook 'hook-distutils.py' from 'C:\\\\Users\\\\tuman\\\\AppData\\\\Local\\\\Programs\\\\Python\\\\Python310\\\\lib\\\\site-packages\\\\PyInstaller\\\\hooks\\\\pre_find_module_path'\n",
      "14265 INFO: Processing standard module hook 'hook-distutils.py' from 'C:\\\\Users\\\\tuman\\\\AppData\\\\Local\\\\Programs\\\\Python\\\\Python310\\\\lib\\\\site-packages\\\\PyInstaller\\\\hooks'\n",
      "14332 INFO: Processing standard module hook 'hook-distutils.util.py' from 'C:\\\\Users\\\\tuman\\\\AppData\\\\Local\\\\Programs\\\\Python\\\\Python310\\\\lib\\\\site-packages\\\\PyInstaller\\\\hooks'\n",
      "15203 INFO: Processing standard module hook 'hook-numpy.py' from 'C:\\\\Users\\\\tuman\\\\AppData\\\\Local\\\\Programs\\\\Python\\\\Python310\\\\Lib\\\\site-packages\\\\numpy\\\\_pyinstaller'\n",
      "15962 INFO: Processing standard module hook 'hook-psutil.py' from 'C:\\\\Users\\\\tuman\\\\AppData\\\\Local\\\\Programs\\\\Python\\\\Python310\\\\lib\\\\site-packages\\\\_pyinstaller_hooks_contrib\\\\stdhooks'\n",
      "17219 INFO: Processing pre-safe-import-module hook 'hook-packaging.py' from 'C:\\\\Users\\\\tuman\\\\AppData\\\\Local\\\\Programs\\\\Python\\\\Python310\\\\lib\\\\site-packages\\\\PyInstaller\\\\hooks\\\\pre_safe_import_module'\n",
      "17235 INFO: Processing standard module hook 'hook-packaging.py' from 'C:\\\\Users\\\\tuman\\\\AppData\\\\Local\\\\Programs\\\\Python\\\\Python310\\\\lib\\\\site-packages\\\\PyInstaller\\\\hooks'\n",
      "17285 INFO: Processing standard module hook 'hook-PIL.ImageFilter.py' from 'C:\\\\Users\\\\tuman\\\\AppData\\\\Local\\\\Programs\\\\Python\\\\Python310\\\\lib\\\\site-packages\\\\PyInstaller\\\\hooks'\n",
      "17318 INFO: Processing standard module hook 'hook-playwright.sync_api.py' from 'C:\\\\Users\\\\tuman\\\\AppData\\\\Local\\\\Programs\\\\Python\\\\Python310\\\\lib\\\\site-packages\\\\playwright\\\\_impl\\\\__pyinstaller'\n",
      "18358 INFO: Processing module hooks (post-graph stage)...\n",
      "18650 INFO: Processing standard module hook 'hook-PIL.SpiderImagePlugin.py' from 'C:\\\\Users\\\\tuman\\\\AppData\\\\Local\\\\Programs\\\\Python\\\\Python310\\\\lib\\\\site-packages\\\\PyInstaller\\\\hooks'\n",
      "18726 INFO: Processing pre-safe-import-module hook 'hook-win32com.py' from 'C:\\\\Users\\\\tuman\\\\AppData\\\\Local\\\\Programs\\\\Python\\\\Python310\\\\lib\\\\site-packages\\\\_pyinstaller_hooks_contrib\\\\pre_safe_import_module'\n",
      "18787 INFO: Processing standard module hook 'hook-win32com.py' from 'C:\\\\Users\\\\tuman\\\\AppData\\\\Local\\\\Programs\\\\Python\\\\Python310\\\\lib\\\\site-packages\\\\_pyinstaller_hooks_contrib\\\\stdhooks'\n",
      "18792 INFO: Processing standard module hook 'hook-pythoncom.py' from 'C:\\\\Users\\\\tuman\\\\AppData\\\\Local\\\\Programs\\\\Python\\\\Python310\\\\lib\\\\site-packages\\\\_pyinstaller_hooks_contrib\\\\stdhooks'\n",
      "18860 INFO: Processing standard module hook 'hook-pywintypes.py' from 'C:\\\\Users\\\\tuman\\\\AppData\\\\Local\\\\Programs\\\\Python\\\\Python310\\\\lib\\\\site-packages\\\\_pyinstaller_hooks_contrib\\\\stdhooks'\n",
      "19568 INFO: Processing standard module hook 'hook-_tkinter.py' from 'C:\\\\Users\\\\tuman\\\\AppData\\\\Local\\\\Programs\\\\Python\\\\Python310\\\\lib\\\\site-packages\\\\PyInstaller\\\\hooks'\n",
      "19569 INFO: TclTkInfo: initializing cached Tcl/Tk info...\n",
      "20100 INFO: Performing binary vs. data reclassification (1867 entries)\n",
      "43537 INFO: Looking for ctypes DLLs\n",
      "43561 INFO: Analyzing run-time hooks ...\n",
      "43563 INFO: Including run-time hook 'pyi_rth_inspect.py' from 'C:\\\\Users\\\\tuman\\\\AppData\\\\Local\\\\Programs\\\\Python\\\\Python310\\\\lib\\\\site-packages\\\\PyInstaller\\\\hooks\\\\rthooks'\n",
      "43570 INFO: Including run-time hook 'pyi_rth_pkgutil.py' from 'C:\\\\Users\\\\tuman\\\\AppData\\\\Local\\\\Programs\\\\Python\\\\Python310\\\\lib\\\\site-packages\\\\PyInstaller\\\\hooks\\\\rthooks'\n",
      "43578 INFO: Including run-time hook 'pyi_rth_multiprocessing.py' from 'C:\\\\Users\\\\tuman\\\\AppData\\\\Local\\\\Programs\\\\Python\\\\Python310\\\\lib\\\\site-packages\\\\PyInstaller\\\\hooks\\\\rthooks'\n",
      "43584 INFO: Including run-time hook 'pyi_rth_pkgres.py' from 'C:\\\\Users\\\\tuman\\\\AppData\\\\Local\\\\Programs\\\\Python\\\\Python310\\\\lib\\\\site-packages\\\\PyInstaller\\\\hooks\\\\rthooks'\n",
      "43591 INFO: Including run-time hook 'pyi_rth_pywintypes.py' from 'C:\\\\Users\\\\tuman\\\\AppData\\\\Local\\\\Programs\\\\Python\\\\Python310\\\\lib\\\\site-packages\\\\_pyinstaller_hooks_contrib\\\\rthooks'\n",
      "43596 INFO: Including run-time hook 'pyi_rth_pythoncom.py' from 'C:\\\\Users\\\\tuman\\\\AppData\\\\Local\\\\Programs\\\\Python\\\\Python310\\\\lib\\\\site-packages\\\\_pyinstaller_hooks_contrib\\\\rthooks'\n",
      "43597 INFO: Including run-time hook 'pyi_rth_setuptools.py' from 'C:\\\\Users\\\\tuman\\\\AppData\\\\Local\\\\Programs\\\\Python\\\\Python310\\\\lib\\\\site-packages\\\\PyInstaller\\\\hooks\\\\rthooks'\n",
      "43602 INFO: Including run-time hook 'pyi_rth__tkinter.py' from 'C:\\\\Users\\\\tuman\\\\AppData\\\\Local\\\\Programs\\\\Python\\\\Python310\\\\lib\\\\site-packages\\\\PyInstaller\\\\hooks\\\\rthooks'\n",
      "43657 INFO: Looking for dynamic libraries\n",
      "C:\\Users\\tuman\\AppData\\Local\\Programs\\Python\\Python310\\lib\\site-packages\\PyInstaller\\building\\build_main.py:207: UserWarning: The numpy.array_api submodule is still experimental. See NEP 47.\n",
      "  __import__(package)\n",
      "44380 INFO: Extra DLL search directories (AddDllDirectory): ['C:\\\\Users\\\\tuman\\\\AppData\\\\Local\\\\Programs\\\\Python\\\\Python310\\\\lib\\\\site-packages\\\\numpy.libs']\n",
      "44380 INFO: Extra DLL search directories (PATH): []\n",
      "50073 INFO: Warnings written to C:\\Users\\tuman\\OneDrive\\Документы\\GitHub\\IdleScholar\\build\\main\\warn-main.txt\n",
      "50149 INFO: Graph cross-reference written to C:\\Users\\tuman\\OneDrive\\Документы\\GitHub\\IdleScholar\\build\\main\\xref-main.html\n",
      "50236 INFO: checking PYZ\n",
      "50240 INFO: Building because toc changed\n",
      "50240 INFO: Building PYZ (ZlibArchive) C:\\Users\\tuman\\OneDrive\\Документы\\GitHub\\IdleScholar\\build\\main\\PYZ-00.pyz\n",
      "51175 INFO: Building PYZ (ZlibArchive) C:\\Users\\tuman\\OneDrive\\Документы\\GitHub\\IdleScholar\\build\\main\\PYZ-00.pyz completed successfully.\n",
      "51280 INFO: checking PKG\n",
      "51286 INFO: Building because toc changed\n",
      "51286 INFO: Building PKG (CArchive) main.pkg\n",
      "65286 INFO: Building PKG (CArchive) main.pkg completed successfully.\n",
      "65321 INFO: Bootloader C:\\Users\\tuman\\AppData\\Local\\Programs\\Python\\Python310\\lib\\site-packages\\PyInstaller\\bootloader\\Windows-64bit-intel\\runw.exe\n",
      "65321 INFO: checking EXE\n",
      "65328 INFO: Building because icon changed\n",
      "65328 INFO: Building EXE from EXE-00.toc\n",
      "65329 INFO: Copying bootloader EXE to C:\\Users\\tuman\\OneDrive\\Документы\\GitHub\\IdleScholar\\dist\\main.exe\n",
      "65362 INFO: Copying icon to EXE\n",
      "65369 INFO: Copying 0 resources to EXE\n",
      "65369 INFO: Embedding manifest in EXE\n",
      "65371 INFO: Appending PKG archive to EXE\n",
      "65431 INFO: Fixing EXE headers\n",
      "65859 INFO: Building EXE from EXE-00.toc completed successfully.\n"
     ]
    }
   ],
   "execution_count": 1
  }
 ],
 "metadata": {
  "kernelspec": {
   "display_name": "Python 3",
   "language": "python",
   "name": "python3"
  },
  "language_info": {
   "codemirror_mode": {
    "name": "ipython",
    "version": 2
   },
   "file_extension": ".py",
   "mimetype": "text/x-python",
   "name": "python",
   "nbconvert_exporter": "python",
   "pygments_lexer": "ipython2",
   "version": "2.7.6"
  }
 },
 "nbformat": 4,
 "nbformat_minor": 5
}
