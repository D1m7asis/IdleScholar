{
 "cells": [
  {
   "cell_type": "markdown",
   "source": [
    "## Build application to the executable file"
   ],
   "metadata": {
    "collapsed": false
   },
   "id": "8ede807587f0778a"
  },
  {
   "cell_type": "code",
   "outputs": [
    {
     "data": {
      "text/plain": "'dist\\\\settings.cfg'"
     },
     "execution_count": 1,
     "metadata": {},
     "output_type": "execute_result"
    }
   ],
   "source": [
    "import shutil\n",
    "\n",
    "shutil.copy2('src/icon.png', 'dist')\n",
    "shutil.copy2('src/schedule.json', 'dist')\n",
    "shutil.copy2('src/settings.cfg', 'dist')"
   ],
   "metadata": {
    "collapsed": false,
    "ExecuteTime": {
     "end_time": "2025-03-15T11:54:29.122885Z",
     "start_time": "2025-03-15T11:54:29.100213Z"
    }
   },
   "id": "6a98841cb7609f61",
   "execution_count": 1
  },
  {
   "cell_type": "code",
   "source": [
    "!pyinstaller -F --windowed src/main.py --hidden-import=playwright --hidden-import=playwright.sync_api --hidden-import=playwright._impl._driver --hidden-import=pystray --add-data \"dist/schedule.json;.\" --add-data \"dist/icon.png;.\" --add-data \"dist/settings.cfg;.\""
   ],
   "metadata": {
    "collapsed": false,
    "ExecuteTime": {
     "end_time": "2025-03-15T11:55:40.280166Z",
     "start_time": "2025-03-15T11:54:29.123885Z"
    }
   },
   "id": "97f30286e3510e70",
   "outputs": [
    {
     "name": "stderr",
     "output_type": "stream",
     "text": [
      "510 INFO: PyInstaller: 6.10.0, contrib hooks: 2024.8\n",
      "510 INFO: Python: 3.10.0\n",
      "521 INFO: Platform: Windows-10-10.0.26100-SP0\n",
      "521 INFO: Python environment: C:\\Users\\tuman\\AppData\\Local\\Programs\\Python\\Python310\n",
      "522 INFO: wrote C:\\Users\\tuman\\OneDrive\\Документы\\GitHub\\IdleScholar\\main.spec\n",
      "526 INFO: Module search paths (PYTHONPATH):\n",
      "['C:\\\\Users\\\\tuman\\\\AppData\\\\Local\\\\Programs\\\\Python\\\\Python310\\\\Scripts\\\\pyinstaller.exe',\n",
      " 'C:\\\\Users\\\\tuman\\\\OneDrive\\\\Документы\\\\GitHub\\\\IdleScholar',\n",
      " 'C:\\\\Users\\\\tuman\\\\OneDrive\\\\Документы',\n",
      " 'C:\\\\Users\\\\tuman\\\\AppData\\\\Local\\\\Programs\\\\Python\\\\Python310\\\\python310.zip',\n",
      " 'C:\\\\Users\\\\tuman\\\\AppData\\\\Local\\\\Programs\\\\Python\\\\Python310\\\\DLLs',\n",
      " 'C:\\\\Users\\\\tuman\\\\AppData\\\\Local\\\\Programs\\\\Python\\\\Python310\\\\lib',\n",
      " 'C:\\\\Users\\\\tuman\\\\AppData\\\\Local\\\\Programs\\\\Python\\\\Python310',\n",
      " 'C:\\\\Users\\\\tuman\\\\AppData\\\\Local\\\\Programs\\\\Python\\\\Python310\\\\lib\\\\site-packages',\n",
      " 'C:\\\\Users\\\\tuman\\\\AppData\\\\Local\\\\Programs\\\\Python\\\\Python310\\\\lib\\\\site-packages\\\\win32',\n",
      " 'C:\\\\Users\\\\tuman\\\\AppData\\\\Local\\\\Programs\\\\Python\\\\Python310\\\\lib\\\\site-packages\\\\win32\\\\lib',\n",
      " 'C:\\\\Users\\\\tuman\\\\AppData\\\\Local\\\\Programs\\\\Python\\\\Python310\\\\lib\\\\site-packages\\\\Pythonwin',\n",
      " 'C:\\\\Users\\\\tuman\\\\OneDrive\\\\Документы\\\\GitHub\\\\IdleScholar\\\\src']\n",
      "1002 INFO: Appending 'datas' from .spec\n",
      "1003 INFO: checking Analysis\n",
      "1024 INFO: Building because C:\\Users\\tuman\\OneDrive\\Документы\\GitHub\\IdleScholar\\dist\\schedule.json changed\n",
      "1024 INFO: Running Analysis Analysis-00.toc\n",
      "1024 INFO: Target bytecode optimization level: 0\n",
      "1024 INFO: Initializing module dependency graph...\n",
      "1025 INFO: Caching module graph hooks...\n",
      "1052 INFO: Analyzing base_library.zip ...\n",
      "2374 INFO: Processing standard module hook 'hook-heapq.py' from 'C:\\\\Users\\\\tuman\\\\AppData\\\\Local\\\\Programs\\\\Python\\\\Python310\\\\lib\\\\site-packages\\\\PyInstaller\\\\hooks'\n",
      "2470 INFO: Processing standard module hook 'hook-encodings.py' from 'C:\\\\Users\\\\tuman\\\\AppData\\\\Local\\\\Programs\\\\Python\\\\Python310\\\\lib\\\\site-packages\\\\PyInstaller\\\\hooks'\n",
      "4197 INFO: Processing standard module hook 'hook-pickle.py' from 'C:\\\\Users\\\\tuman\\\\AppData\\\\Local\\\\Programs\\\\Python\\\\Python310\\\\lib\\\\site-packages\\\\PyInstaller\\\\hooks'\n",
      "6043 INFO: Caching module dependency graph...\n",
      "6149 INFO: Looking for Python shared library...\n",
      "6192 INFO: Using Python shared library: C:\\Users\\tuman\\AppData\\Local\\Programs\\Python\\Python310\\python310.dll\n",
      "6192 INFO: Analyzing C:\\Users\\tuman\\OneDrive\\Документы\\GitHub\\IdleScholar\\src\\main.py\n",
      "6299 INFO: Processing standard module hook 'hook-_tkinter.py' from 'C:\\\\Users\\\\tuman\\\\AppData\\\\Local\\\\Programs\\\\Python\\\\Python310\\\\lib\\\\site-packages\\\\PyInstaller\\\\hooks'\n",
      "6319 INFO: Processing standard module hook 'hook-pystray.py' from 'C:\\\\Users\\\\tuman\\\\AppData\\\\Local\\\\Programs\\\\Python\\\\Python310\\\\lib\\\\site-packages\\\\_pyinstaller_hooks_contrib\\\\stdhooks'\n",
      "6935 INFO: Processing pre-safe-import-module hook 'hook-six.moves.py' from 'C:\\\\Users\\\\tuman\\\\AppData\\\\Local\\\\Programs\\\\Python\\\\Python310\\\\lib\\\\site-packages\\\\PyInstaller\\\\hooks\\\\pre_safe_import_module'\n",
      "7018 INFO: Processing pre-safe-import-module hook 'hook-gi.py' from 'C:\\\\Users\\\\tuman\\\\AppData\\\\Local\\\\Programs\\\\Python\\\\Python310\\\\lib\\\\site-packages\\\\PyInstaller\\\\hooks\\\\pre_safe_import_module'\n",
      "7077 INFO: Processing standard module hook 'hook-PIL.py' from 'C:\\\\Users\\\\tuman\\\\AppData\\\\Local\\\\Programs\\\\Python\\\\Python310\\\\lib\\\\site-packages\\\\PyInstaller\\\\hooks'\n",
      "7198 INFO: Processing standard module hook 'hook-pytz.py' from 'C:\\\\Users\\\\tuman\\\\AppData\\\\Local\\\\Programs\\\\Python\\\\Python310\\\\lib\\\\site-packages\\\\PyInstaller\\\\hooks'\n",
      "7481 INFO: Processing standard module hook 'hook-pkg_resources.py' from 'C:\\\\Users\\\\tuman\\\\AppData\\\\Local\\\\Programs\\\\Python\\\\Python310\\\\lib\\\\site-packages\\\\PyInstaller\\\\hooks'\n",
      "7484 INFO: SetuptoolsInfo: initializing cached setuptools info...\n",
      "9909 INFO: Processing standard module hook 'hook-platform.py' from 'C:\\\\Users\\\\tuman\\\\AppData\\\\Local\\\\Programs\\\\Python\\\\Python310\\\\lib\\\\site-packages\\\\PyInstaller\\\\hooks'\n",
      "9965 INFO: Processing standard module hook 'hook-xml.py' from 'C:\\\\Users\\\\tuman\\\\AppData\\\\Local\\\\Programs\\\\Python\\\\Python310\\\\lib\\\\site-packages\\\\PyInstaller\\\\hooks'\n",
      "10016 INFO: Processing standard module hook 'hook-sysconfig.py' from 'C:\\\\Users\\\\tuman\\\\AppData\\\\Local\\\\Programs\\\\Python\\\\Python310\\\\lib\\\\site-packages\\\\PyInstaller\\\\hooks'\n",
      "10122 INFO: Processing standard module hook 'hook-difflib.py' from 'C:\\\\Users\\\\tuman\\\\AppData\\\\Local\\\\Programs\\\\Python\\\\Python310\\\\lib\\\\site-packages\\\\PyInstaller\\\\hooks'\n",
      "11436 INFO: Processing standard module hook 'hook-multiprocessing.util.py' from 'C:\\\\Users\\\\tuman\\\\AppData\\\\Local\\\\Programs\\\\Python\\\\Python310\\\\lib\\\\site-packages\\\\PyInstaller\\\\hooks'\n",
      "12204 INFO: Processing standard module hook 'hook-PIL.Image.py' from 'C:\\\\Users\\\\tuman\\\\AppData\\\\Local\\\\Programs\\\\Python\\\\Python310\\\\lib\\\\site-packages\\\\PyInstaller\\\\hooks'\n",
      "12819 INFO: Processing pre-safe-import-module hook 'hook-typing_extensions.py' from 'C:\\\\Users\\\\tuman\\\\AppData\\\\Local\\\\Programs\\\\Python\\\\Python310\\\\lib\\\\site-packages\\\\PyInstaller\\\\hooks\\\\pre_safe_import_module'\n",
      "12915 INFO: Processing standard module hook 'hook-xml.etree.cElementTree.py' from 'C:\\\\Users\\\\tuman\\\\AppData\\\\Local\\\\Programs\\\\Python\\\\Python310\\\\lib\\\\site-packages\\\\PyInstaller\\\\hooks'\n",
      "13009 INFO: Processing standard module hook 'hook-xml.dom.domreg.py' from 'C:\\\\Users\\\\tuman\\\\AppData\\\\Local\\\\Programs\\\\Python\\\\Python310\\\\lib\\\\site-packages\\\\PyInstaller\\\\hooks'\n",
      "13560 INFO: Processing standard module hook 'hook-pycparser.py' from 'C:\\\\Users\\\\tuman\\\\AppData\\\\Local\\\\Programs\\\\Python\\\\Python310\\\\lib\\\\site-packages\\\\_pyinstaller_hooks_contrib\\\\stdhooks'\n",
      "13900 INFO: Processing standard module hook 'hook-setuptools.py' from 'C:\\\\Users\\\\tuman\\\\AppData\\\\Local\\\\Programs\\\\Python\\\\Python310\\\\lib\\\\site-packages\\\\PyInstaller\\\\hooks'\n",
      "13931 INFO: Processing pre-safe-import-module hook 'hook-distutils.py' from 'C:\\\\Users\\\\tuman\\\\AppData\\\\Local\\\\Programs\\\\Python\\\\Python310\\\\lib\\\\site-packages\\\\PyInstaller\\\\hooks\\\\pre_safe_import_module'\n",
      "13932 INFO: Processing pre-find-module-path hook 'hook-distutils.py' from 'C:\\\\Users\\\\tuman\\\\AppData\\\\Local\\\\Programs\\\\Python\\\\Python310\\\\lib\\\\site-packages\\\\PyInstaller\\\\hooks\\\\pre_find_module_path'\n",
      "13940 INFO: Processing standard module hook 'hook-distutils.py' from 'C:\\\\Users\\\\tuman\\\\AppData\\\\Local\\\\Programs\\\\Python\\\\Python310\\\\lib\\\\site-packages\\\\PyInstaller\\\\hooks'\n",
      "14010 INFO: Processing standard module hook 'hook-distutils.util.py' from 'C:\\\\Users\\\\tuman\\\\AppData\\\\Local\\\\Programs\\\\Python\\\\Python310\\\\lib\\\\site-packages\\\\PyInstaller\\\\hooks'\n",
      "14997 INFO: Processing standard module hook 'hook-numpy.py' from 'C:\\\\Users\\\\tuman\\\\AppData\\\\Local\\\\Programs\\\\Python\\\\Python310\\\\Lib\\\\site-packages\\\\numpy\\\\_pyinstaller'\n",
      "15851 INFO: Processing standard module hook 'hook-psutil.py' from 'C:\\\\Users\\\\tuman\\\\AppData\\\\Local\\\\Programs\\\\Python\\\\Python310\\\\lib\\\\site-packages\\\\_pyinstaller_hooks_contrib\\\\stdhooks'\n",
      "17144 INFO: Processing pre-safe-import-module hook 'hook-packaging.py' from 'C:\\\\Users\\\\tuman\\\\AppData\\\\Local\\\\Programs\\\\Python\\\\Python310\\\\lib\\\\site-packages\\\\PyInstaller\\\\hooks\\\\pre_safe_import_module'\n",
      "17163 INFO: Processing standard module hook 'hook-packaging.py' from 'C:\\\\Users\\\\tuman\\\\AppData\\\\Local\\\\Programs\\\\Python\\\\Python310\\\\lib\\\\site-packages\\\\PyInstaller\\\\hooks'\n",
      "17221 INFO: Processing standard module hook 'hook-PIL.ImageFilter.py' from 'C:\\\\Users\\\\tuman\\\\AppData\\\\Local\\\\Programs\\\\Python\\\\Python310\\\\lib\\\\site-packages\\\\PyInstaller\\\\hooks'\n",
      "17261 INFO: Processing standard module hook 'hook-playwright.sync_api.py' from 'C:\\\\Users\\\\tuman\\\\AppData\\\\Local\\\\Programs\\\\Python\\\\Python310\\\\lib\\\\site-packages\\\\playwright\\\\_impl\\\\__pyinstaller'\n",
      "18262 INFO: Processing module hooks (post-graph stage)...\n",
      "18605 INFO: Processing standard module hook 'hook-PIL.SpiderImagePlugin.py' from 'C:\\\\Users\\\\tuman\\\\AppData\\\\Local\\\\Programs\\\\Python\\\\Python310\\\\lib\\\\site-packages\\\\PyInstaller\\\\hooks'\n",
      "18691 INFO: Processing pre-safe-import-module hook 'hook-win32com.py' from 'C:\\\\Users\\\\tuman\\\\AppData\\\\Local\\\\Programs\\\\Python\\\\Python310\\\\lib\\\\site-packages\\\\_pyinstaller_hooks_contrib\\\\pre_safe_import_module'\n",
      "18770 INFO: Processing standard module hook 'hook-win32com.py' from 'C:\\\\Users\\\\tuman\\\\AppData\\\\Local\\\\Programs\\\\Python\\\\Python310\\\\lib\\\\site-packages\\\\_pyinstaller_hooks_contrib\\\\stdhooks'\n",
      "18776 INFO: Processing standard module hook 'hook-pythoncom.py' from 'C:\\\\Users\\\\tuman\\\\AppData\\\\Local\\\\Programs\\\\Python\\\\Python310\\\\lib\\\\site-packages\\\\_pyinstaller_hooks_contrib\\\\stdhooks'\n",
      "18861 INFO: Processing standard module hook 'hook-pywintypes.py' from 'C:\\\\Users\\\\tuman\\\\AppData\\\\Local\\\\Programs\\\\Python\\\\Python310\\\\lib\\\\site-packages\\\\_pyinstaller_hooks_contrib\\\\stdhooks'\n",
      "19547 INFO: Processing standard module hook 'hook-_tkinter.py' from 'C:\\\\Users\\\\tuman\\\\AppData\\\\Local\\\\Programs\\\\Python\\\\Python310\\\\lib\\\\site-packages\\\\PyInstaller\\\\hooks'\n",
      "19547 INFO: TclTkInfo: initializing cached Tcl/Tk info...\n",
      "20115 INFO: Performing binary vs. data reclassification (1867 entries)\n",
      "47136 INFO: Looking for ctypes DLLs\n",
      "47162 INFO: Analyzing run-time hooks ...\n",
      "47165 INFO: Including run-time hook 'pyi_rth_inspect.py' from 'C:\\\\Users\\\\tuman\\\\AppData\\\\Local\\\\Programs\\\\Python\\\\Python310\\\\lib\\\\site-packages\\\\PyInstaller\\\\hooks\\\\rthooks'\n",
      "47174 INFO: Including run-time hook 'pyi_rth_pkgutil.py' from 'C:\\\\Users\\\\tuman\\\\AppData\\\\Local\\\\Programs\\\\Python\\\\Python310\\\\lib\\\\site-packages\\\\PyInstaller\\\\hooks\\\\rthooks'\n",
      "47183 INFO: Including run-time hook 'pyi_rth_multiprocessing.py' from 'C:\\\\Users\\\\tuman\\\\AppData\\\\Local\\\\Programs\\\\Python\\\\Python310\\\\lib\\\\site-packages\\\\PyInstaller\\\\hooks\\\\rthooks'\n",
      "47190 INFO: Including run-time hook 'pyi_rth_pkgres.py' from 'C:\\\\Users\\\\tuman\\\\AppData\\\\Local\\\\Programs\\\\Python\\\\Python310\\\\lib\\\\site-packages\\\\PyInstaller\\\\hooks\\\\rthooks'\n",
      "47200 INFO: Including run-time hook 'pyi_rth_pywintypes.py' from 'C:\\\\Users\\\\tuman\\\\AppData\\\\Local\\\\Programs\\\\Python\\\\Python310\\\\lib\\\\site-packages\\\\_pyinstaller_hooks_contrib\\\\rthooks'\n",
      "47205 INFO: Including run-time hook 'pyi_rth_pythoncom.py' from 'C:\\\\Users\\\\tuman\\\\AppData\\\\Local\\\\Programs\\\\Python\\\\Python310\\\\lib\\\\site-packages\\\\_pyinstaller_hooks_contrib\\\\rthooks'\n",
      "47207 INFO: Including run-time hook 'pyi_rth_setuptools.py' from 'C:\\\\Users\\\\tuman\\\\AppData\\\\Local\\\\Programs\\\\Python\\\\Python310\\\\lib\\\\site-packages\\\\PyInstaller\\\\hooks\\\\rthooks'\n",
      "47213 INFO: Including run-time hook 'pyi_rth__tkinter.py' from 'C:\\\\Users\\\\tuman\\\\AppData\\\\Local\\\\Programs\\\\Python\\\\Python310\\\\lib\\\\site-packages\\\\PyInstaller\\\\hooks\\\\rthooks'\n",
      "47272 INFO: Looking for dynamic libraries\n",
      "C:\\Users\\tuman\\AppData\\Local\\Programs\\Python\\Python310\\lib\\site-packages\\PyInstaller\\building\\build_main.py:207: UserWarning: The numpy.array_api submodule is still experimental. See NEP 47.\n",
      "  __import__(package)\n",
      "48141 INFO: Extra DLL search directories (AddDllDirectory): ['C:\\\\Users\\\\tuman\\\\AppData\\\\Local\\\\Programs\\\\Python\\\\Python310\\\\lib\\\\site-packages\\\\numpy.libs']\n",
      "48141 INFO: Extra DLL search directories (PATH): []\n",
      "54474 INFO: Warnings written to C:\\Users\\tuman\\OneDrive\\Документы\\GitHub\\IdleScholar\\build\\main\\warn-main.txt\n",
      "54546 INFO: Graph cross-reference written to C:\\Users\\tuman\\OneDrive\\Документы\\GitHub\\IdleScholar\\build\\main\\xref-main.html\n",
      "54601 INFO: checking PYZ\n",
      "54611 INFO: Building because C:\\Users\\tuman\\OneDrive\\Документы\\GitHub\\IdleScholar\\src\\browser_emulator.py changed\n",
      "54611 INFO: Building PYZ (ZlibArchive) C:\\Users\\tuman\\OneDrive\\Документы\\GitHub\\IdleScholar\\build\\main\\PYZ-00.pyz\n",
      "55576 INFO: Building PYZ (ZlibArchive) C:\\Users\\tuman\\OneDrive\\Документы\\GitHub\\IdleScholar\\build\\main\\PYZ-00.pyz completed successfully.\n",
      "55710 INFO: checking PKG\n",
      "55725 INFO: Building because toc changed\n",
      "55725 INFO: Building PKG (CArchive) main.pkg\n",
      "70186 INFO: Building PKG (CArchive) main.pkg completed successfully.\n",
      "70221 INFO: Bootloader C:\\Users\\tuman\\AppData\\Local\\Programs\\Python\\Python310\\lib\\site-packages\\PyInstaller\\bootloader\\Windows-64bit-intel\\runw.exe\n",
      "70221 INFO: checking EXE\n",
      "70236 INFO: Building because toc changed\n",
      "70236 INFO: Building EXE from EXE-00.toc\n",
      "70237 INFO: Copying bootloader EXE to C:\\Users\\tuman\\OneDrive\\Документы\\GitHub\\IdleScholar\\dist\\main.exe\n",
      "70281 INFO: Copying icon to EXE\n",
      "70291 INFO: Copying 0 resources to EXE\n",
      "70291 INFO: Embedding manifest in EXE\n",
      "70293 INFO: Appending PKG archive to EXE\n",
      "70325 INFO: Fixing EXE headers\n",
      "70797 INFO: Building EXE from EXE-00.toc completed successfully.\n"
     ]
    }
   ],
   "execution_count": 2
  },
  {
   "cell_type": "code",
   "outputs": [],
   "source": [],
   "metadata": {
    "collapsed": false,
    "ExecuteTime": {
     "end_time": "2025-03-15T11:55:40.295307Z",
     "start_time": "2025-03-15T11:55:40.281168Z"
    }
   },
   "id": "9b181520eaf14c3e",
   "execution_count": 2
  }
 ],
 "metadata": {
  "kernelspec": {
   "display_name": "Python 3",
   "language": "python",
   "name": "python3"
  },
  "language_info": {
   "codemirror_mode": {
    "name": "ipython",
    "version": 2
   },
   "file_extension": ".py",
   "mimetype": "text/x-python",
   "name": "python",
   "nbconvert_exporter": "python",
   "pygments_lexer": "ipython2",
   "version": "2.7.6"
  }
 },
 "nbformat": 4,
 "nbformat_minor": 5
}
