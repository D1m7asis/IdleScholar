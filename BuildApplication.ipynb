{
 "cells": [
  {
   "cell_type": "markdown",
   "source": [
    "Build application to .exe\n",
    "\n",
    "! **IMPORTANT** !\n",
    "\n",
    "COPY ICON, SCHEDULE AND SETTINGS FILES TO DIST FOLDER\n"
   ],
   "metadata": {
    "collapsed": false
   },
   "id": "6f92c1d155b73399"
  },
  {
   "cell_type": "code",
   "source": [
    "!pyinstaller -F --windowed main.py --hidden-import=playwright --hidden-import=playwright.sync_api --hidden-import=playwright._impl._driver --hidden-import=pystray --add-data \"schedule.json;.\" --add-data \"icon.png;.\" --add-data \"settings.cfg;.\""
   ],
   "metadata": {
    "collapsed": false,
    "ExecuteTime": {
     "end_time": "2025-02-08T09:31:36.046921Z",
     "start_time": "2025-02-08T09:30:22.754330Z"
    }
   },
   "id": "97f30286e3510e70",
   "outputs": [
    {
     "name": "stderr",
     "output_type": "stream",
     "text": [
      "461 INFO: PyInstaller: 6.10.0, contrib hooks: 2024.8\n",
      "461 INFO: Python: 3.10.0\n",
      "470 INFO: Platform: Windows-10-10.0.26100-SP0\n",
      "470 INFO: Python environment: C:\\Users\\tuman\\AppData\\Local\\Programs\\Python\\Python310\n",
      "471 INFO: wrote C:\\Users\\tuman\\OneDrive\\Документы\\GitHub\\IdleScholar\\main.spec\n",
      "473 INFO: Module search paths (PYTHONPATH):\n",
      "['C:\\\\Users\\\\tuman\\\\AppData\\\\Local\\\\Programs\\\\Python\\\\Python310\\\\Scripts\\\\pyinstaller.exe',\n",
      " 'C:\\\\Users\\\\tuman\\\\OneDrive\\\\Документы\\\\GitHub\\\\IdleScholar',\n",
      " 'C:\\\\Users\\\\tuman\\\\OneDrive\\\\Документы',\n",
      " 'C:\\\\Users\\\\tuman\\\\AppData\\\\Local\\\\Programs\\\\Python\\\\Python310\\\\python310.zip',\n",
      " 'C:\\\\Users\\\\tuman\\\\AppData\\\\Local\\\\Programs\\\\Python\\\\Python310\\\\DLLs',\n",
      " 'C:\\\\Users\\\\tuman\\\\AppData\\\\Local\\\\Programs\\\\Python\\\\Python310\\\\lib',\n",
      " 'C:\\\\Users\\\\tuman\\\\AppData\\\\Local\\\\Programs\\\\Python\\\\Python310',\n",
      " 'C:\\\\Users\\\\tuman\\\\AppData\\\\Local\\\\Programs\\\\Python\\\\Python310\\\\lib\\\\site-packages',\n",
      " 'C:\\\\Users\\\\tuman\\\\AppData\\\\Local\\\\Programs\\\\Python\\\\Python310\\\\lib\\\\site-packages\\\\win32',\n",
      " 'C:\\\\Users\\\\tuman\\\\AppData\\\\Local\\\\Programs\\\\Python\\\\Python310\\\\lib\\\\site-packages\\\\win32\\\\lib',\n",
      " 'C:\\\\Users\\\\tuman\\\\AppData\\\\Local\\\\Programs\\\\Python\\\\Python310\\\\lib\\\\site-packages\\\\Pythonwin',\n",
      " 'C:\\\\Users\\\\tuman\\\\OneDrive\\\\Документы\\\\GitHub\\\\IdleScholar']\n",
      "783 INFO: Appending 'datas' from .spec\n",
      "783 INFO: checking Analysis\n",
      "801 INFO: Building because C:\\Users\\tuman\\OneDrive\\Документы\\GitHub\\IdleScholar\\schedule.json changed\n",
      "801 INFO: Running Analysis Analysis-00.toc\n",
      "801 INFO: Target bytecode optimization level: 0\n",
      "801 INFO: Initializing module dependency graph...\n",
      "801 INFO: Caching module graph hooks...\n",
      "813 INFO: Analyzing base_library.zip ...\n",
      "2153 INFO: Processing standard module hook 'hook-heapq.py' from 'C:\\\\Users\\\\tuman\\\\AppData\\\\Local\\\\Programs\\\\Python\\\\Python310\\\\lib\\\\site-packages\\\\PyInstaller\\\\hooks'\n",
      "2232 INFO: Processing standard module hook 'hook-encodings.py' from 'C:\\\\Users\\\\tuman\\\\AppData\\\\Local\\\\Programs\\\\Python\\\\Python310\\\\lib\\\\site-packages\\\\PyInstaller\\\\hooks'\n",
      "3788 INFO: Processing standard module hook 'hook-pickle.py' from 'C:\\\\Users\\\\tuman\\\\AppData\\\\Local\\\\Programs\\\\Python\\\\Python310\\\\lib\\\\site-packages\\\\PyInstaller\\\\hooks'\n",
      "5674 INFO: Caching module dependency graph...\n",
      "5778 INFO: Looking for Python shared library...\n",
      "5820 INFO: Using Python shared library: C:\\Users\\tuman\\AppData\\Local\\Programs\\Python\\Python310\\python310.dll\n",
      "5821 INFO: Analyzing C:\\Users\\tuman\\OneDrive\\Документы\\GitHub\\IdleScholar\\main.py\n",
      "5975 INFO: Processing standard module hook 'hook-_tkinter.py' from 'C:\\\\Users\\\\tuman\\\\AppData\\\\Local\\\\Programs\\\\Python\\\\Python310\\\\lib\\\\site-packages\\\\PyInstaller\\\\hooks'\n",
      "5993 INFO: Processing standard module hook 'hook-pystray.py' from 'C:\\\\Users\\\\tuman\\\\AppData\\\\Local\\\\Programs\\\\Python\\\\Python310\\\\lib\\\\site-packages\\\\_pyinstaller_hooks_contrib\\\\stdhooks'\n",
      "6660 INFO: Processing pre-safe-import-module hook 'hook-six.moves.py' from 'C:\\\\Users\\\\tuman\\\\AppData\\\\Local\\\\Programs\\\\Python\\\\Python310\\\\lib\\\\site-packages\\\\PyInstaller\\\\hooks\\\\pre_safe_import_module'\n",
      "6742 INFO: Processing pre-safe-import-module hook 'hook-gi.py' from 'C:\\\\Users\\\\tuman\\\\AppData\\\\Local\\\\Programs\\\\Python\\\\Python310\\\\lib\\\\site-packages\\\\PyInstaller\\\\hooks\\\\pre_safe_import_module'\n",
      "6811 INFO: Processing standard module hook 'hook-PIL.py' from 'C:\\\\Users\\\\tuman\\\\AppData\\\\Local\\\\Programs\\\\Python\\\\Python310\\\\lib\\\\site-packages\\\\PyInstaller\\\\hooks'\n",
      "6895 INFO: Processing standard module hook 'hook-pytz.py' from 'C:\\\\Users\\\\tuman\\\\AppData\\\\Local\\\\Programs\\\\Python\\\\Python310\\\\lib\\\\site-packages\\\\PyInstaller\\\\hooks'\n",
      "7194 INFO: Processing standard module hook 'hook-pkg_resources.py' from 'C:\\\\Users\\\\tuman\\\\AppData\\\\Local\\\\Programs\\\\Python\\\\Python310\\\\lib\\\\site-packages\\\\PyInstaller\\\\hooks'\n",
      "7195 INFO: SetuptoolsInfo: initializing cached setuptools info...\n",
      "9442 INFO: Processing standard module hook 'hook-platform.py' from 'C:\\\\Users\\\\tuman\\\\AppData\\\\Local\\\\Programs\\\\Python\\\\Python310\\\\lib\\\\site-packages\\\\PyInstaller\\\\hooks'\n",
      "9481 INFO: Processing standard module hook 'hook-xml.py' from 'C:\\\\Users\\\\tuman\\\\AppData\\\\Local\\\\Programs\\\\Python\\\\Python310\\\\lib\\\\site-packages\\\\PyInstaller\\\\hooks'\n",
      "9524 INFO: Processing standard module hook 'hook-sysconfig.py' from 'C:\\\\Users\\\\tuman\\\\AppData\\\\Local\\\\Programs\\\\Python\\\\Python310\\\\lib\\\\site-packages\\\\PyInstaller\\\\hooks'\n",
      "9642 INFO: Processing standard module hook 'hook-difflib.py' from 'C:\\\\Users\\\\tuman\\\\AppData\\\\Local\\\\Programs\\\\Python\\\\Python310\\\\lib\\\\site-packages\\\\PyInstaller\\\\hooks'\n",
      "16917 INFO: Processing standard module hook 'hook-multiprocessing.util.py' from 'C:\\\\Users\\\\tuman\\\\AppData\\\\Local\\\\Programs\\\\Python\\\\Python310\\\\lib\\\\site-packages\\\\PyInstaller\\\\hooks'\n",
      "17644 INFO: Processing standard module hook 'hook-PIL.Image.py' from 'C:\\\\Users\\\\tuman\\\\AppData\\\\Local\\\\Programs\\\\Python\\\\Python310\\\\lib\\\\site-packages\\\\PyInstaller\\\\hooks'\n",
      "18239 INFO: Processing pre-safe-import-module hook 'hook-typing_extensions.py' from 'C:\\\\Users\\\\tuman\\\\AppData\\\\Local\\\\Programs\\\\Python\\\\Python310\\\\lib\\\\site-packages\\\\PyInstaller\\\\hooks\\\\pre_safe_import_module'\n",
      "18376 INFO: Processing standard module hook 'hook-xml.etree.cElementTree.py' from 'C:\\\\Users\\\\tuman\\\\AppData\\\\Local\\\\Programs\\\\Python\\\\Python310\\\\lib\\\\site-packages\\\\PyInstaller\\\\hooks'\n",
      "18476 INFO: Processing standard module hook 'hook-xml.dom.domreg.py' from 'C:\\\\Users\\\\tuman\\\\AppData\\\\Local\\\\Programs\\\\Python\\\\Python310\\\\lib\\\\site-packages\\\\PyInstaller\\\\hooks'\n",
      "18992 INFO: Processing standard module hook 'hook-pycparser.py' from 'C:\\\\Users\\\\tuman\\\\AppData\\\\Local\\\\Programs\\\\Python\\\\Python310\\\\lib\\\\site-packages\\\\_pyinstaller_hooks_contrib\\\\stdhooks'\n",
      "19508 INFO: Processing standard module hook 'hook-setuptools.py' from 'C:\\\\Users\\\\tuman\\\\AppData\\\\Local\\\\Programs\\\\Python\\\\Python310\\\\lib\\\\site-packages\\\\PyInstaller\\\\hooks'\n",
      "19528 INFO: Processing pre-safe-import-module hook 'hook-distutils.py' from 'C:\\\\Users\\\\tuman\\\\AppData\\\\Local\\\\Programs\\\\Python\\\\Python310\\\\lib\\\\site-packages\\\\PyInstaller\\\\hooks\\\\pre_safe_import_module'\n",
      "19529 INFO: Processing pre-find-module-path hook 'hook-distutils.py' from 'C:\\\\Users\\\\tuman\\\\AppData\\\\Local\\\\Programs\\\\Python\\\\Python310\\\\lib\\\\site-packages\\\\PyInstaller\\\\hooks\\\\pre_find_module_path'\n",
      "19537 INFO: Processing standard module hook 'hook-distutils.py' from 'C:\\\\Users\\\\tuman\\\\AppData\\\\Local\\\\Programs\\\\Python\\\\Python310\\\\lib\\\\site-packages\\\\PyInstaller\\\\hooks'\n",
      "19638 INFO: Processing standard module hook 'hook-distutils.util.py' from 'C:\\\\Users\\\\tuman\\\\AppData\\\\Local\\\\Programs\\\\Python\\\\Python310\\\\lib\\\\site-packages\\\\PyInstaller\\\\hooks'\n",
      "20771 INFO: Processing standard module hook 'hook-numpy.py' from 'C:\\\\Users\\\\tuman\\\\AppData\\\\Local\\\\Programs\\\\Python\\\\Python310\\\\Lib\\\\site-packages\\\\numpy\\\\_pyinstaller'\n",
      "21881 INFO: Processing standard module hook 'hook-psutil.py' from 'C:\\\\Users\\\\tuman\\\\AppData\\\\Local\\\\Programs\\\\Python\\\\Python310\\\\lib\\\\site-packages\\\\_pyinstaller_hooks_contrib\\\\stdhooks'\n",
      "23493 INFO: Processing pre-safe-import-module hook 'hook-packaging.py' from 'C:\\\\Users\\\\tuman\\\\AppData\\\\Local\\\\Programs\\\\Python\\\\Python310\\\\lib\\\\site-packages\\\\PyInstaller\\\\hooks\\\\pre_safe_import_module'\n",
      "23512 INFO: Processing standard module hook 'hook-packaging.py' from 'C:\\\\Users\\\\tuman\\\\AppData\\\\Local\\\\Programs\\\\Python\\\\Python310\\\\lib\\\\site-packages\\\\PyInstaller\\\\hooks'\n",
      "23570 INFO: Processing standard module hook 'hook-PIL.ImageFilter.py' from 'C:\\\\Users\\\\tuman\\\\AppData\\\\Local\\\\Programs\\\\Python\\\\Python310\\\\lib\\\\site-packages\\\\PyInstaller\\\\hooks'\n",
      "23607 INFO: Processing standard module hook 'hook-playwright.sync_api.py' from 'C:\\\\Users\\\\tuman\\\\AppData\\\\Local\\\\Programs\\\\Python\\\\Python310\\\\lib\\\\site-packages\\\\playwright\\\\_impl\\\\__pyinstaller'\n",
      "24602 INFO: Processing module hooks (post-graph stage)...\n",
      "24996 INFO: Processing standard module hook 'hook-PIL.SpiderImagePlugin.py' from 'C:\\\\Users\\\\tuman\\\\AppData\\\\Local\\\\Programs\\\\Python\\\\Python310\\\\lib\\\\site-packages\\\\PyInstaller\\\\hooks'\n",
      "25093 INFO: Processing pre-safe-import-module hook 'hook-win32com.py' from 'C:\\\\Users\\\\tuman\\\\AppData\\\\Local\\\\Programs\\\\Python\\\\Python310\\\\lib\\\\site-packages\\\\_pyinstaller_hooks_contrib\\\\pre_safe_import_module'\n",
      "25166 INFO: Processing standard module hook 'hook-win32com.py' from 'C:\\\\Users\\\\tuman\\\\AppData\\\\Local\\\\Programs\\\\Python\\\\Python310\\\\lib\\\\site-packages\\\\_pyinstaller_hooks_contrib\\\\stdhooks'\n",
      "25173 INFO: Processing standard module hook 'hook-pythoncom.py' from 'C:\\\\Users\\\\tuman\\\\AppData\\\\Local\\\\Programs\\\\Python\\\\Python310\\\\lib\\\\site-packages\\\\_pyinstaller_hooks_contrib\\\\stdhooks'\n",
      "25253 INFO: Processing standard module hook 'hook-pywintypes.py' from 'C:\\\\Users\\\\tuman\\\\AppData\\\\Local\\\\Programs\\\\Python\\\\Python310\\\\lib\\\\site-packages\\\\_pyinstaller_hooks_contrib\\\\stdhooks'\n",
      "25988 INFO: Processing standard module hook 'hook-_tkinter.py' from 'C:\\\\Users\\\\tuman\\\\AppData\\\\Local\\\\Programs\\\\Python\\\\Python310\\\\lib\\\\site-packages\\\\PyInstaller\\\\hooks'\n",
      "25989 INFO: TclTkInfo: initializing cached Tcl/Tk info...\n",
      "26542 INFO: Performing binary vs. data reclassification (1867 entries)\n",
      "51295 INFO: Looking for ctypes DLLs\n",
      "51319 INFO: Analyzing run-time hooks ...\n",
      "51322 INFO: Including run-time hook 'pyi_rth_inspect.py' from 'C:\\\\Users\\\\tuman\\\\AppData\\\\Local\\\\Programs\\\\Python\\\\Python310\\\\lib\\\\site-packages\\\\PyInstaller\\\\hooks\\\\rthooks'\n",
      "51331 INFO: Including run-time hook 'pyi_rth_pkgutil.py' from 'C:\\\\Users\\\\tuman\\\\AppData\\\\Local\\\\Programs\\\\Python\\\\Python310\\\\lib\\\\site-packages\\\\PyInstaller\\\\hooks\\\\rthooks'\n",
      "51338 INFO: Including run-time hook 'pyi_rth_multiprocessing.py' from 'C:\\\\Users\\\\tuman\\\\AppData\\\\Local\\\\Programs\\\\Python\\\\Python310\\\\lib\\\\site-packages\\\\PyInstaller\\\\hooks\\\\rthooks'\n",
      "51344 INFO: Including run-time hook 'pyi_rth_pkgres.py' from 'C:\\\\Users\\\\tuman\\\\AppData\\\\Local\\\\Programs\\\\Python\\\\Python310\\\\lib\\\\site-packages\\\\PyInstaller\\\\hooks\\\\rthooks'\n",
      "51353 INFO: Including run-time hook 'pyi_rth_pywintypes.py' from 'C:\\\\Users\\\\tuman\\\\AppData\\\\Local\\\\Programs\\\\Python\\\\Python310\\\\lib\\\\site-packages\\\\_pyinstaller_hooks_contrib\\\\rthooks'\n",
      "51358 INFO: Including run-time hook 'pyi_rth_pythoncom.py' from 'C:\\\\Users\\\\tuman\\\\AppData\\\\Local\\\\Programs\\\\Python\\\\Python310\\\\lib\\\\site-packages\\\\_pyinstaller_hooks_contrib\\\\rthooks'\n",
      "51359 INFO: Including run-time hook 'pyi_rth_setuptools.py' from 'C:\\\\Users\\\\tuman\\\\AppData\\\\Local\\\\Programs\\\\Python\\\\Python310\\\\lib\\\\site-packages\\\\PyInstaller\\\\hooks\\\\rthooks'\n",
      "51365 INFO: Including run-time hook 'pyi_rth__tkinter.py' from 'C:\\\\Users\\\\tuman\\\\AppData\\\\Local\\\\Programs\\\\Python\\\\Python310\\\\lib\\\\site-packages\\\\PyInstaller\\\\hooks\\\\rthooks'\n",
      "51423 INFO: Looking for dynamic libraries\n",
      "C:\\Users\\tuman\\AppData\\Local\\Programs\\Python\\Python310\\lib\\site-packages\\PyInstaller\\building\\build_main.py:207: UserWarning: The numpy.array_api submodule is still experimental. See NEP 47.\n",
      "  __import__(package)\n",
      "52232 INFO: Extra DLL search directories (AddDllDirectory): ['C:\\\\Users\\\\tuman\\\\AppData\\\\Local\\\\Programs\\\\Python\\\\Python310\\\\lib\\\\site-packages\\\\numpy.libs']\n",
      "52232 INFO: Extra DLL search directories (PATH): []\n",
      "58177 INFO: Warnings written to C:\\Users\\tuman\\OneDrive\\Документы\\GitHub\\IdleScholar\\build\\main\\warn-main.txt\n",
      "58248 INFO: Graph cross-reference written to C:\\Users\\tuman\\OneDrive\\Документы\\GitHub\\IdleScholar\\build\\main\\xref-main.html\n",
      "58304 INFO: checking PYZ\n",
      "58442 INFO: checking PKG\n",
      "58458 INFO: Building because toc changed\n",
      "58459 INFO: Building PKG (CArchive) main.pkg\n",
      "72400 INFO: Building PKG (CArchive) main.pkg completed successfully.\n",
      "72436 INFO: Bootloader C:\\Users\\tuman\\AppData\\Local\\Programs\\Python\\Python310\\lib\\site-packages\\PyInstaller\\bootloader\\Windows-64bit-intel\\runw.exe\n",
      "72436 INFO: checking EXE\n",
      "72452 INFO: Building because toc changed\n",
      "72452 INFO: Building EXE from EXE-00.toc\n",
      "72457 INFO: Copying bootloader EXE to C:\\Users\\tuman\\OneDrive\\Документы\\GitHub\\IdleScholar\\dist\\main.exe\n",
      "72494 INFO: Copying icon to EXE\n",
      "72503 INFO: Copying 0 resources to EXE\n",
      "72503 INFO: Embedding manifest in EXE\n",
      "72506 INFO: Appending PKG archive to EXE\n",
      "72572 INFO: Fixing EXE headers\n",
      "73009 INFO: Building EXE from EXE-00.toc completed successfully.\n"
     ]
    }
   ],
   "execution_count": 1
  }
 ],
 "metadata": {
  "kernelspec": {
   "display_name": "Python 3",
   "language": "python",
   "name": "python3"
  },
  "language_info": {
   "codemirror_mode": {
    "name": "ipython",
    "version": 2
   },
   "file_extension": ".py",
   "mimetype": "text/x-python",
   "name": "python",
   "nbconvert_exporter": "python",
   "pygments_lexer": "ipython2",
   "version": "2.7.6"
  }
 },
 "nbformat": 4,
 "nbformat_minor": 5
}
